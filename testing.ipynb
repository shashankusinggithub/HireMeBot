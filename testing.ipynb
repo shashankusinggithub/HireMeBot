{
 "cells": [
  {
   "cell_type": "code",
   "execution_count": 10,
   "metadata": {},
   "outputs": [
    {
     "data": {
      "text/plain": [
       "''"
      ]
     },
     "execution_count": 10,
     "metadata": {},
     "output_type": "execute_result"
    }
   ],
   "source": [
    "from urllib.parse import urlparse\n",
    "\n",
    "string = 'microsoft.com'\n",
    "urlparse(string).netloc\n"
   ]
  },
  {
   "cell_type": "code",
   "execution_count": 14,
   "metadata": {},
   "outputs": [],
   "source": [
    "def gen(string):\n",
    "    if str(string) == 'microsoft/path':\n",
    "        yield string\n",
    "        return \n",
    "    for i in range(len(string)):\n",
    "        yield string[i]\n",
    "\n",
    "string = 'microsoft/path'\n",
    "for job in gen(string):\n",
    "    print(job)"
   ]
  },
  {
   "cell_type": "code",
   "execution_count": 17,
   "metadata": {},
   "outputs": [
    {
     "name": "stdout",
     "output_type": "stream",
     "text": [
      "m\n",
      "mi\n",
      "mic\n",
      "micr\n",
      "micro\n",
      "micros\n",
      "microso\n",
      "microsof\n",
      "microsoft\n",
      "microsoft/\n",
      "microsoft/p\n",
      "microsoft/pa\n",
      "microsoft/pat\n",
      "microsoft/path\n",
      "microsoft/path1\n",
      "microsoft/path11\n",
      "microsoft/path112\n"
     ]
    }
   ],
   "source": [
    "def generate_path_segments(path):\n",
    "    \"\"\"Generate all possible segments of a given path.\"\"\"\n",
    "    if not isinstance(path, str) or path.lower() == 'microsoft/path':\n",
    "        yield path\n",
    "        return\n",
    "    \n",
    "    for i in range(1, len(path)):\n",
    "        yield path[:i]\n",
    "\n",
    "path = 'microsoft/path1123'\n",
    "for segment in generate_path_segments(path):\n",
    "    print(segment)"
   ]
  },
  {
   "cell_type": "code",
   "execution_count": null,
   "metadata": {},
   "outputs": [],
   "source": [
    "from urllib.parse import urlparse, parse_qs\n",
    "\n",
    "url =  \"https://www.linkedin.com/jobs/search/post-apply/next-best-action/?alertAction=viewjobs&currentJobId=4066567013&f_AL=true&f_TPR=r86400&f_WT=1%2C2%2C3&geoId=102713980&keywords=full%20stack%20engineer&location=India&origin=JOB_SEARCH_PAGE_JOB_FILTER&postApplyJobId=4066567013\"\n",
    "parsed_url = urlparse(url)\n",
    "\n",
    "# Extract query parameters\n",
    "query_params = parse_qs(parsed_url.query)\n",
    "\n",
    "# Get the postApplyJobId\n",
    "post_apply_job_id = query_params.get('postApplyJobId', [None])[0]\n",
    "\n",
    "print(post_apply_job_id)  # Output: 4066567013"
   ]
  },
  {
   "cell_type": "code",
   "execution_count": null,
   "metadata": {},
   "outputs": [],
   "source": []
  }
 ],
 "metadata": {
  "kernelspec": {
   "display_name": "venv",
   "language": "python",
   "name": "python3"
  },
  "language_info": {
   "codemirror_mode": {
    "name": "ipython",
    "version": 3
   },
   "file_extension": ".py",
   "mimetype": "text/x-python",
   "name": "python",
   "nbconvert_exporter": "python",
   "pygments_lexer": "ipython3",
   "version": "3.12.6"
  }
 },
 "nbformat": 4,
 "nbformat_minor": 2
}
